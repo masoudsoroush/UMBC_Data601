{
 "cells": [
  {
   "cell_type": "markdown",
   "metadata": {},
   "source": [
    "# Data Analysis of the Best 250 Movies of All Times"
   ]
  },
  {
   "cell_type": "markdown",
   "metadata": {},
   "source": [
    "## Calling the Necessary Libraries and Functions"
   ]
  },
  {
   "cell_type": "code",
   "execution_count": 1,
   "metadata": {},
   "outputs": [],
   "source": [
    "import numpy as np\n",
    "import pandas as pd\n",
    "import seaborn as sns\n",
    "%matplotlib inline\n",
    "import matplotlib.pyplot as plt\n",
    "plt.style.use('seaborn-whitegrid')"
   ]
  },
  {
   "cell_type": "code",
   "execution_count": 2,
   "metadata": {},
   "outputs": [],
   "source": [
    "# The 'Lin_Reg' function finds the least square regression line for the two lists 'Lone' and 'Ltwo'. Parameter 'c'\n",
    "# specifies the color of the regression line.\n",
    "\n",
    "def Lin_Reg(Lone,Ltwo,c):\n",
    "    a=np.polyfit(Lone,Ltwo,1)\n",
    "    y=lambda x: a[0]*x+a[1]\n",
    "    b=np.linspace(min(Lone),max(Lone),200)\n",
    "    return plt.plot(b,y(b),color=c)"
   ]
  },
  {
   "cell_type": "markdown",
   "metadata": {},
   "source": [
    "## Calling the Data from 'Data Cleansing' File"
   ]
  },
  {
   "cell_type": "code",
   "execution_count": 3,
   "metadata": {},
   "outputs": [],
   "source": [
    "path='/Users/masoud/Dropbox/Private/UMBC-DataScience/DATA-601/Homework-02/Cleansed_Data.csv'"
   ]
  },
  {
   "cell_type": "code",
   "execution_count": 4,
   "metadata": {},
   "outputs": [],
   "source": [
    "df=pd.read_csv(path)"
   ]
  },
  {
   "cell_type": "code",
   "execution_count": 5,
   "metadata": {},
   "outputs": [],
   "source": [
    "df.drop(columns=['Unnamed: 0'],inplace=True)"
   ]
  },
  {
   "cell_type": "code",
   "execution_count": 6,
   "metadata": {},
   "outputs": [
    {
     "data": {
      "text/plain": [
       "(250, 9)"
      ]
     },
     "execution_count": 6,
     "metadata": {},
     "output_type": "execute_result"
    }
   ],
   "source": [
    "df.shape"
   ]
  },
  {
   "cell_type": "markdown",
   "metadata": {},
   "source": [
    "### Displaying the Dataframe consisting the Data of the Best 250 Movies of All Times"
   ]
  },
  {
   "cell_type": "markdown",
   "metadata": {},
   "source": [
    "As indicated below, the dataframe consists of 9 columns. The columns are:\n",
    "1. Movie_Name: displaying the official name of the movie.\n",
    "2. Movie_url: displaying the electronic address of the movie found in rottentomatoes website.\n",
    "3. Genre: displaying the movie's genre.\n",
    "4. Movie_Year: displaying the year in which the movie was screened for the first time.\n",
    "5. Box_Office_(USD): displaying how much (in US dollars) the movie sold during the year in was screened at cinemas.\n",
    "6. Box_Office_(USD_2020): displaying the equivalent amount of Box_Office_(USD) at present time (2020).\n",
    "7. Critic_Ratings: displaying the ratings (from 100%) given by critics of the rottentomatoes website.\n",
    "8. Audience_Ratings: displaying the average ratings given by all the audience of rottentomatoes website.\n",
    "9. Runtime_(min): displaying the length of the movie in minutes."
   ]
  },
  {
   "cell_type": "code",
   "execution_count": 7,
   "metadata": {},
   "outputs": [
    {
     "data": {
      "text/html": [
       "<div>\n",
       "<style scoped>\n",
       "    .dataframe tbody tr th:only-of-type {\n",
       "        vertical-align: middle;\n",
       "    }\n",
       "\n",
       "    .dataframe tbody tr th {\n",
       "        vertical-align: top;\n",
       "    }\n",
       "\n",
       "    .dataframe thead th {\n",
       "        text-align: right;\n",
       "    }\n",
       "</style>\n",
       "<table border=\"1\" class=\"dataframe\">\n",
       "  <thead>\n",
       "    <tr style=\"text-align: right;\">\n",
       "      <th></th>\n",
       "      <th>Movie_Name</th>\n",
       "      <th>Movie_url</th>\n",
       "      <th>Genre</th>\n",
       "      <th>Movie_Year</th>\n",
       "      <th>Box_Office_(USD)</th>\n",
       "      <th>Box_Office_(USD_2020)</th>\n",
       "      <th>Critic_Ratings</th>\n",
       "      <th>Audience_Ratings</th>\n",
       "      <th>Runtime_(min)</th>\n",
       "    </tr>\n",
       "  </thead>\n",
       "  <tbody>\n",
       "    <tr>\n",
       "      <th>0</th>\n",
       "      <td>The Godfather</td>\n",
       "      <td>http://www.rottentomatoes.com/m/12911</td>\n",
       "      <td>drama,crime</td>\n",
       "      <td>1972</td>\n",
       "      <td>134800000</td>\n",
       "      <td>838456000</td>\n",
       "      <td>98.0</td>\n",
       "      <td>98.0</td>\n",
       "      <td>177.0</td>\n",
       "    </tr>\n",
       "    <tr>\n",
       "      <th>1</th>\n",
       "      <td>12 Angry Men</td>\n",
       "      <td>http://www.rottentomatoes.com/m/18108</td>\n",
       "      <td>drama</td>\n",
       "      <td>1957</td>\n",
       "      <td>57020001</td>\n",
       "      <td>527435009</td>\n",
       "      <td>100.0</td>\n",
       "      <td>97.0</td>\n",
       "      <td>95.0</td>\n",
       "    </tr>\n",
       "    <tr>\n",
       "      <th>2</th>\n",
       "      <td>The Godfather: Part II</td>\n",
       "      <td>http://www.rottentomatoes.com/m/12926</td>\n",
       "      <td>drama,crime</td>\n",
       "      <td>1974</td>\n",
       "      <td>57020001</td>\n",
       "      <td>300495405</td>\n",
       "      <td>98.0</td>\n",
       "      <td>97.0</td>\n",
       "      <td>200.0</td>\n",
       "    </tr>\n",
       "    <tr>\n",
       "      <th>3</th>\n",
       "      <td>Seven Samurai</td>\n",
       "      <td>http://www.rottentomatoes.com/m/16992</td>\n",
       "      <td>action</td>\n",
       "      <td>1954</td>\n",
       "      <td>271700</td>\n",
       "      <td>2624622</td>\n",
       "      <td>100.0</td>\n",
       "      <td>97.0</td>\n",
       "      <td>208.0</td>\n",
       "    </tr>\n",
       "    <tr>\n",
       "      <th>4</th>\n",
       "      <td>Schindler's List</td>\n",
       "      <td>http://www.rottentomatoes.com/m/12903</td>\n",
       "      <td>history,drama</td>\n",
       "      <td>1993</td>\n",
       "      <td>96600000</td>\n",
       "      <td>173880000</td>\n",
       "      <td>97.0</td>\n",
       "      <td>97.0</td>\n",
       "      <td>195.0</td>\n",
       "    </tr>\n",
       "  </tbody>\n",
       "</table>\n",
       "</div>"
      ],
      "text/plain": [
       "               Movie_Name                              Movie_url  \\\n",
       "0           The Godfather  http://www.rottentomatoes.com/m/12911   \n",
       "1            12 Angry Men  http://www.rottentomatoes.com/m/18108   \n",
       "2  The Godfather: Part II  http://www.rottentomatoes.com/m/12926   \n",
       "3           Seven Samurai  http://www.rottentomatoes.com/m/16992   \n",
       "4        Schindler's List  http://www.rottentomatoes.com/m/12903   \n",
       "\n",
       "           Genre  Movie_Year  Box_Office_(USD)  Box_Office_(USD_2020)  \\\n",
       "0    drama,crime        1972         134800000              838456000   \n",
       "1          drama        1957          57020001              527435009   \n",
       "2    drama,crime        1974          57020001              300495405   \n",
       "3         action        1954            271700                2624622   \n",
       "4  history,drama        1993          96600000              173880000   \n",
       "\n",
       "   Critic_Ratings  Audience_Ratings  Runtime_(min)  \n",
       "0            98.0              98.0          177.0  \n",
       "1           100.0              97.0           95.0  \n",
       "2            98.0              97.0          200.0  \n",
       "3           100.0              97.0          208.0  \n",
       "4            97.0              97.0          195.0  "
      ]
     },
     "execution_count": 7,
     "metadata": {},
     "output_type": "execute_result"
    }
   ],
   "source": [
    "df.head()"
   ]
  },
  {
   "cell_type": "markdown",
   "metadata": {},
   "source": [
    "## Data Analysis"
   ]
  },
  {
   "cell_type": "markdown",
   "metadata": {},
   "source": [
    "### Finding the Shape of Ratings Distribution"
   ]
  },
  {
   "cell_type": "markdown",
   "metadata": {},
   "source": [
    "1. We would like to investigate the shape of distributions for the two kinds of ratings, namely the Critic Ratings, and the Audience Ratings. As is observed, the Critic Ratings distribution is left-skewed as more than 65 movies (out of 250) have received the highest rating (100%=mode of distribution). On the other hand, the distribution of the ratings given by all adience tends to be more symmetric around 93% (which is the mode of the distribution)."
   ]
  },
  {
   "cell_type": "code",
   "execution_count": 8,
   "metadata": {},
   "outputs": [
    {
     "data": {
      "text/plain": [
       "Text(0, 0.5, 'Frequency')"
      ]
     },
     "execution_count": 8,
     "metadata": {},
     "output_type": "execute_result"
    },
    {
     "data": {
      "image/png": "[encoded data removed]",
      "text/plain": [
       "<Figure size 1440x576 with 2 Axes>"
      ]
     },
     "metadata": {
      "needs_background": "light"
     },
     "output_type": "display_data"
    }
   ],
   "source": [
    "bins=[i for i in range(84,101)]\n",
    "\n",
    "plt.gcf().set_size_inches((20, 8)) \n",
    "plt.subplot(1,2,1)\n",
    "plt.hist(df.Critic_Ratings,bins,color=(4*0.04,4*0.19,3*0.11))\n",
    "plt.title('Histogram of Critic Ratings')\n",
    "plt.xlabel('Critic Ratings')\n",
    "plt.ylabel('Frequency')\n",
    "plt.subplot(1,2,2)\n",
    "plt.hist(df.Audience_Ratings,bins,color='orange')\n",
    "plt.title('Histogram of Audience Ratings')\n",
    "plt.xlabel('Audience Ratings')\n",
    "plt.ylabel('Frequency')"
   ]
  },
  {
   "cell_type": "markdown",
   "metadata": {},
   "source": [
    "2. We divide the the period 1920 to 2020 into 10 decades. We would like to see which decade has been the most 'productive' decade of the history of cinema so far. As is observed below, the decade **1950-1960** has the highest number of best movies. After that, the decade *1990-2000* has been the next most productive decade of cinema. The least productive decade in the history of cinema belongs to *1930-1940* (which by the way is coincidentally the period of post World War I and the beginning of World War II! There might exist a correlation between the two, but we are not able to address this question here with the current data set.)"
   ]
  },
  {
   "cell_type": "code",
   "execution_count": 9,
   "metadata": {},
   "outputs": [
    {
     "data": {
      "text/plain": [
       "Text(0, 0.5, 'Frequency')"
      ]
     },
     "execution_count": 9,
     "metadata": {},
     "output_type": "execute_result"
    },
    {
     "data": {
      "image/png": "[encoded data removed]",
      "text/plain": [
       "<Figure size 864x432 with 1 Axes>"
      ]
     },
     "metadata": {
      "needs_background": "light"
     },
     "output_type": "display_data"
    }
   ],
   "source": [
    "plt.gcf().set_size_inches((12, 6)) \n",
    "plt.hist(df.Movie_Year,color=(0.45,0.55,0.59))\n",
    "plt.title('Histogram of Best Movie Years')\n",
    "plt.xlabel('Movie Year')\n",
    "plt.ylabel('Frequency')"
   ]
  },
  {
   "cell_type": "markdown",
   "metadata": {},
   "source": [
    "3. We would like to investigate the box office (the amount the movie has sold tickets in cinemas) of the best 250 movies in consideration. In order to be able to compare the box office of different movies in **different years**, we convert the box office of all movies to the equivalent amount in the year 2020. The range of box office of the considered best 250 movies is from 0.5 Billion dollars to 4 Billion dollars. The following plot shows that about 36 movies (the highest frequency) have sold between 0.5-0.6 Billion dollars. The next highest frequency (16 movies) has sold 0.7-0.8 Billion dollars. The highest office box in these 250 movies belongs to the movie *Gone With the Wind* produced in 1939!"
   ]
  },
  {
   "cell_type": "code",
   "execution_count": 10,
   "metadata": {},
   "outputs": [
    {
     "data": {
      "text/plain": [
       "Text(0, 0.5, 'Frequency')"
      ]
     },
     "execution_count": 10,
     "metadata": {},
     "output_type": "execute_result"
    },
    {
     "data": {
      "image/png": "[encoded data removed]",
      "text/plain": [
       "<Figure size 864x432 with 1 Axes>"
      ]
     },
     "metadata": {
      "needs_background": "light"
     },
     "output_type": "display_data"
    }
   ],
   "source": [
    "bins=[100000000*i+500000000 for i in range(38)]\n",
    "\n",
    "plt.gcf().set_size_inches((12, 6)) \n",
    "plt.hist(df['Box_Office_(USD_2020)'],bins,color=(5*0.18,5*0.02,5*0.16))\n",
    "plt.title('Histogram of Best Movie Years')\n",
    "plt.xlabel('Box Office (Billion Dollors in 2020)')\n",
    "plt.ylabel('Frequency')"
   ]
  },
  {
   "cell_type": "code",
   "execution_count": 11,
   "metadata": {},
   "outputs": [
    {
     "data": {
      "text/html": [
       "<div>\n",
       "<style scoped>\n",
       "    .dataframe tbody tr th:only-of-type {\n",
       "        vertical-align: middle;\n",
       "    }\n",
       "\n",
       "    .dataframe tbody tr th {\n",
       "        vertical-align: top;\n",
       "    }\n",
       "\n",
       "    .dataframe thead th {\n",
       "        text-align: right;\n",
       "    }\n",
       "</style>\n",
       "<table border=\"1\" class=\"dataframe\">\n",
       "  <thead>\n",
       "    <tr style=\"text-align: right;\">\n",
       "      <th></th>\n",
       "      <th>Movie_Name</th>\n",
       "      <th>Movie_url</th>\n",
       "      <th>Genre</th>\n",
       "      <th>Movie_Year</th>\n",
       "      <th>Box_Office_(USD)</th>\n",
       "      <th>Box_Office_(USD_2020)</th>\n",
       "      <th>Critic_Ratings</th>\n",
       "      <th>Audience_Ratings</th>\n",
       "      <th>Runtime_(min)</th>\n",
       "    </tr>\n",
       "  </thead>\n",
       "  <tbody>\n",
       "    <tr>\n",
       "      <th>127</th>\n",
       "      <td>Gone With the Wind</td>\n",
       "      <td>http://www.rottentomatoes.com/m/9818</td>\n",
       "      <td>romance,history,drama</td>\n",
       "      <td>1939</td>\n",
       "      <td>198700000</td>\n",
       "      <td>3715690000</td>\n",
       "      <td>91.0</td>\n",
       "      <td>92.0</td>\n",
       "      <td>222.0</td>\n",
       "    </tr>\n",
       "  </tbody>\n",
       "</table>\n",
       "</div>"
      ],
      "text/plain": [
       "             Movie_Name                             Movie_url  \\\n",
       "127  Gone With the Wind  http://www.rottentomatoes.com/m/9818   \n",
       "\n",
       "                     Genre  Movie_Year  Box_Office_(USD)  \\\n",
       "127  romance,history,drama        1939         198700000   \n",
       "\n",
       "     Box_Office_(USD_2020)  Critic_Ratings  Audience_Ratings  Runtime_(min)  \n",
       "127             3715690000            91.0              92.0          222.0  "
      ]
     },
     "execution_count": 11,
     "metadata": {},
     "output_type": "execute_result"
    }
   ],
   "source": [
    "df[df['Box_Office_(USD_2020)']>3000000000]"
   ]
  },
  {
   "cell_type": "markdown",
   "metadata": {},
   "source": [
    "4. We would like to investigate if there is any correlation between the length of a movie and its box office. Since both of these varilables are continuous, we can find the scatter plot of the two variables and find the simple linear regression. As indicated below, the data at hand does not support a strong correlation between the movie length and its box office."
   ]
  },
  {
   "cell_type": "code",
   "execution_count": 12,
   "metadata": {},
   "outputs": [
    {
     "data": {
      "text/plain": [
       "Text(0, 0.5, 'Box Office (USD)')"
      ]
     },
     "execution_count": 12,
     "metadata": {},
     "output_type": "execute_result"
    },
    {
     "data": {
      "image/png": "[encoded data removed]",
      "text/plain": [
       "<Figure size 1080x504 with 1 Axes>"
      ]
     },
     "metadata": {
      "needs_background": "light"
     },
     "output_type": "display_data"
    }
   ],
   "source": [
    "plt.gcf().set_size_inches((15, 7)) \n",
    "plt.plot(df['Runtime_(min)'],df['Box_Office_(USD)'],'.',color='brown')\n",
    "Lin_Reg(df['Runtime_(min)'],df['Box_Office_(USD)'],'g')\n",
    "plt.title('Scatter Plot')\n",
    "plt.xlabel('Runtime (min)')\n",
    "plt.ylabel('Box Office (USD)')"
   ]
  },
  {
   "cell_type": "markdown",
   "metadata": {},
   "source": [
    "5. The statistical summary of the dataframe is displayed below. Among different factors below, it is interesting to note mean of the values for runtime (movie length) of the 250 considered movies is about 125 minutes. It is also observed that the mean of values for box office (converted to the value of US dollar in 2020) is about 323 million dollars.  "
   ]
  },
  {
   "cell_type": "code",
   "execution_count": 13,
   "metadata": {},
   "outputs": [
    {
     "data": {
      "text/html": [
       "<div>\n",
       "<style scoped>\n",
       "    .dataframe tbody tr th:only-of-type {\n",
       "        vertical-align: middle;\n",
       "    }\n",
       "\n",
       "    .dataframe tbody tr th {\n",
       "        vertical-align: top;\n",
       "    }\n",
       "\n",
       "    .dataframe thead th {\n",
       "        text-align: right;\n",
       "    }\n",
       "</style>\n",
       "<table border=\"1\" class=\"dataframe\">\n",
       "  <thead>\n",
       "    <tr style=\"text-align: right;\">\n",
       "      <th></th>\n",
       "      <th>Movie_Year</th>\n",
       "      <th>Box_Office_(USD)</th>\n",
       "      <th>Box_Office_(USD_2020)</th>\n",
       "      <th>Critic_Ratings</th>\n",
       "      <th>Audience_Ratings</th>\n",
       "      <th>Runtime_(min)</th>\n",
       "    </tr>\n",
       "  </thead>\n",
       "  <tbody>\n",
       "    <tr>\n",
       "      <th>count</th>\n",
       "      <td>250.000000</td>\n",
       "      <td>2.500000e+02</td>\n",
       "      <td>2.500000e+02</td>\n",
       "      <td>250.000000</td>\n",
       "      <td>250.000000</td>\n",
       "      <td>250.000000</td>\n",
       "    </tr>\n",
       "    <tr>\n",
       "      <th>mean</th>\n",
       "      <td>1973.744000</td>\n",
       "      <td>5.702000e+07</td>\n",
       "      <td>3.229151e+08</td>\n",
       "      <td>95.444000</td>\n",
       "      <td>93.160000</td>\n",
       "      <td>125.540000</td>\n",
       "    </tr>\n",
       "    <tr>\n",
       "      <th>std</th>\n",
       "      <td>25.598194</td>\n",
       "      <td>7.064910e+07</td>\n",
       "      <td>3.718201e+08</td>\n",
       "      <td>4.061632</td>\n",
       "      <td>2.256272</td>\n",
       "      <td>41.534526</td>\n",
       "    </tr>\n",
       "    <tr>\n",
       "      <th>min</th>\n",
       "      <td>1920.000000</td>\n",
       "      <td>6.400000e+03</td>\n",
       "      <td>1.540000e+04</td>\n",
       "      <td>84.000000</td>\n",
       "      <td>88.000000</td>\n",
       "      <td>60.000000</td>\n",
       "    </tr>\n",
       "    <tr>\n",
       "      <th>25%</th>\n",
       "      <td>1955.000000</td>\n",
       "      <td>5.575000e+06</td>\n",
       "      <td>1.183800e+07</td>\n",
       "      <td>93.000000</td>\n",
       "      <td>92.000000</td>\n",
       "      <td>97.000000</td>\n",
       "    </tr>\n",
       "    <tr>\n",
       "      <th>50%</th>\n",
       "      <td>1973.500000</td>\n",
       "      <td>5.702000e+07</td>\n",
       "      <td>2.446158e+08</td>\n",
       "      <td>96.000000</td>\n",
       "      <td>93.000000</td>\n",
       "      <td>122.000000</td>\n",
       "    </tr>\n",
       "    <tr>\n",
       "      <th>75%</th>\n",
       "      <td>1995.750000</td>\n",
       "      <td>5.702000e+07</td>\n",
       "      <td>5.237287e+08</td>\n",
       "      <td>99.000000</td>\n",
       "      <td>95.000000</td>\n",
       "      <td>137.000000</td>\n",
       "    </tr>\n",
       "    <tr>\n",
       "      <th>max</th>\n",
       "      <td>2019.000000</td>\n",
       "      <td>4.228000e+08</td>\n",
       "      <td>3.715690e+09</td>\n",
       "      <td>100.000000</td>\n",
       "      <td>98.000000</td>\n",
       "      <td>450.000000</td>\n",
       "    </tr>\n",
       "  </tbody>\n",
       "</table>\n",
       "</div>"
      ],
      "text/plain": [
       "        Movie_Year  Box_Office_(USD)  Box_Office_(USD_2020)  Critic_Ratings  \\\n",
       "count   250.000000      2.500000e+02           2.500000e+02      250.000000   \n",
       "mean   1973.744000      5.702000e+07           3.229151e+08       95.444000   \n",
       "std      25.598194      7.064910e+07           3.718201e+08        4.061632   \n",
       "min    1920.000000      6.400000e+03           1.540000e+04       84.000000   \n",
       "25%    1955.000000      5.575000e+06           1.183800e+07       93.000000   \n",
       "50%    1973.500000      5.702000e+07           2.446158e+08       96.000000   \n",
       "75%    1995.750000      5.702000e+07           5.237287e+08       99.000000   \n",
       "max    2019.000000      4.228000e+08           3.715690e+09      100.000000   \n",
       "\n",
       "       Audience_Ratings  Runtime_(min)  \n",
       "count        250.000000     250.000000  \n",
       "mean          93.160000     125.540000  \n",
       "std            2.256272      41.534526  \n",
       "min           88.000000      60.000000  \n",
       "25%           92.000000      97.000000  \n",
       "50%           93.000000     122.000000  \n",
       "75%           95.000000     137.000000  \n",
       "max           98.000000     450.000000  "
      ]
     },
     "execution_count": 13,
     "metadata": {},
     "output_type": "execute_result"
    }
   ],
   "source": [
    "df.describe()"
   ]
  },
  {
   "cell_type": "code",
   "execution_count": null,
   "metadata": {},
   "outputs": [],
   "source": []
  }
 ],
 "metadata": {
  "kernelspec": {
   "display_name": "Python 3",
   "language": "python",
   "name": "python3"
  },
  "language_info": {
   "codemirror_mode": {
    "name": "ipython",
    "version": 3
   },
   "file_extension": ".py",
   "mimetype": "text/x-python",
   "name": "python",
   "nbconvert_exporter": "python",
   "pygments_lexer": "ipython3",
   "version": "3.7.2"
  }
 },
 "nbformat": 4,
 "nbformat_minor": 2
}
