{
 "cells": [
  {
   "cell_type": "markdown",
   "metadata": {},
   "source": [
    "# Web-scraping to Collect Data for the Best 250 Movies of All Times"
   ]
  },
  {
   "cell_type": "markdown",
   "metadata": {},
   "source": [
    "## Calling the Necessary Libraries for Web-scraping"
   ]
  },
  {
   "cell_type": "code",
   "execution_count": 1,
   "metadata": {},
   "outputs": [],
   "source": [
    "import pandas as pd\n",
    "import requests \n",
    "from bs4 import BeautifulSoup"
   ]
  },
  {
   "cell_type": "markdown",
   "metadata": {},
   "source": [
    "## Constructing the Necessary Functions "
   ]
  },
  {
   "cell_type": "code",
   "execution_count": 2,
   "metadata": {},
   "outputs": [],
   "source": [
    "# The following recognizes if the length of a movie exists. If the runtime is given in the format of \n",
    "# 'x hours y minutes', then the function returns True, and if the runtime does not exist, the function \n",
    "# returns False.\n",
    "\n",
    "def Movie_Length(x):\n",
    "    t=False\n",
    "    S={'0','1','2','3','4','5','6','7','8','9'}\n",
    "    if x[0] in S:\n",
    "        try:\n",
    "            y=x[1]\n",
    "        except:\n",
    "            y='None'\n",
    "        if y=='h':\n",
    "            t=True\n",
    "    return t"
   ]
  },
  {
   "cell_type": "markdown",
   "metadata": {},
   "source": [
    "## Web-scraping Job:"
   ]
  },
  {
   "cell_type": "markdown",
   "metadata": {},
   "source": [
    "### Extracting the Name, Production Year, and url of the Best 250 Movies of All Times"
   ]
  },
  {
   "cell_type": "markdown",
   "metadata": {},
   "source": [
    "1.  Using the website https://www.listchallenges.com/reel-stats-statistical-top-250-movies-of-all-time, we \n",
    "    first extract the names and production years of the best 250 movies of all times. The webscraping is performed\n",
    "    through the 'BeautifulSoup' and 'requests' libraries."
   ]
  },
  {
   "cell_type": "code",
   "execution_count": 3,
   "metadata": {},
   "outputs": [
    {
     "name": "stdout",
     "output_type": "stream",
     "text": [
      "1 <Response [200]>\n",
      "2 <Response [200]>\n",
      "3 <Response [200]>\n",
      "4 <Response [200]>\n",
      "5 <Response [200]>\n",
      "6 <Response [200]>\n",
      "7 <Response [200]>\n"
     ]
    }
   ],
   "source": [
    "# Extracting the names and production years of each of the 250 best movies of all times.\n",
    "\n",
    "movie_names=[]\n",
    "movie_years=[]\n",
    "for m in range(1,8):\n",
    "    url='https://www.listchallenges.com/reel-stats-statistical-top-250-movies-of-all-time/list/' + str(m)\n",
    "    page=requests.get(url)\n",
    "    print(m,page)\n",
    "    soup=BeautifulSoup(page.content, 'html.parser')\n",
    "\n",
    "    page_cont=soup.findAll('div',class_=\"item-name\")\n",
    "    for k in page_cont:\n",
    "        movie_names.append(k.get_text().replace('\\t','').replace('\\r','').replace('\\n','').split('(')[0].strip())\n",
    "        movie_years.append(int(k.get_text().replace('\\t','').replace('\\r','').replace('\\n','').split('(')[1]\n",
    "                       .replace(')','')))"
   ]
  },
  {
   "cell_type": "code",
   "execution_count": 4,
   "metadata": {},
   "outputs": [
    {
     "name": "stdout",
     "output_type": "stream",
     "text": [
      "250\n",
      "250\n"
     ]
    }
   ],
   "source": [
    "# We make sure that we have collected the names and production years of all 250 best movies of all time. \n",
    "\n",
    "print(len(movie_names))\n",
    "print(len(movie_years))"
   ]
  },
  {
   "cell_type": "markdown",
   "metadata": {},
   "source": [
    "2. Using the above website, we extract the url of all 250 movies in the website https://www.rottentomatoes.com/ to    extract more information about each of these 250 movies.     "
   ]
  },
  {
   "cell_type": "code",
   "execution_count": 5,
   "metadata": {},
   "outputs": [
    {
     "name": "stdout",
     "output_type": "stream",
     "text": [
      "1 <Response [200]>\n",
      "2 <Response [200]>\n",
      "3 <Response [200]>\n",
      "4 <Response [200]>\n",
      "5 <Response [200]>\n",
      "6 <Response [200]>\n",
      "7 <Response [200]>\n"
     ]
    }
   ],
   "source": [
    "# Extracting the rottentomatoes.com address of each of the 250 best movies of all times.\n",
    "\n",
    "movie_urls=[]\n",
    "for m in range(1,8):\n",
    "    url='https://www.listchallenges.com/reel-stats-statistical-top-250-movies-of-all-time/list/' + str(m)\n",
    "    page=requests.get(url)\n",
    "    print(m,page)\n",
    "    soup=BeautifulSoup(page.content, 'html.parser')\n",
    "\n",
    "    page_cont_url=soup.findAll('div',class_=\"rt-score\")\n",
    "    for k in page_cont_url:\n",
    "        try:\n",
    "            h=k.find('a').get('href')\n",
    "        except:\n",
    "            h='The url does not exist!'\n",
    "        movie_urls.append(h)"
   ]
  },
  {
   "cell_type": "code",
   "execution_count": 6,
   "metadata": {},
   "outputs": [
    {
     "data": {
      "text/plain": [
       "250"
      ]
     },
     "execution_count": 6,
     "metadata": {},
     "output_type": "execute_result"
    }
   ],
   "source": [
    "# Very few of the movies do not have a recored in rottentomatoes.com. For those, the url shows \n",
    "# 'The url does not exist!'.\n",
    "\n",
    "len(movie_urls)"
   ]
  },
  {
   "cell_type": "markdown",
   "metadata": {},
   "source": [
    "### Extracting the Movie Info from rottentomatoes.com for Each of the Best 250 Movies of All Times  "
   ]
  },
  {
   "cell_type": "markdown",
   "metadata": {},
   "source": [
    "Using rottentomatoes.com website, we extract the following information about each of the 250 best movies of all times:\n",
    "\n",
    "1. *Genre* of the movie (This will be collected in 'genre' list).\n",
    "2. *Box Office* of the movie indicating the amount, in US dollars, the movie has sold tickets in cinemas (This will      be collected in 'box_office' list).\n",
    "3. *Runtime* indicating the length of the movie (This will be collected in 'duration' list).\n",
    "4. *Critic Ratings* indicating the average score, in percentage, of the movie received by the critics of the       \n",
    "   rottentomatoes.com (This will be collected in 'Critic_Rating' list).\n",
    "5. *Audience Ratings* indicating the average score, in percentage, of the movie received by all auidence of  \n",
    "   rottentomatoes.com that watched the movie (This will be collected in 'Audience_Rating' list). "
   ]
  },
  {
   "cell_type": "code",
   "execution_count": 7,
   "metadata": {},
   "outputs": [],
   "source": [
    "# Using the movie_urls we constructed above, we scrap rottentomatoes.com page for each of the above 250 movies.\n",
    "\n",
    "genre=[]\n",
    "box_office=[]\n",
    "duration=[]\n",
    "Critic_Rating=[]\n",
    "Audience_Rating=[]\n",
    "for m in movie_urls:\n",
    "    try:\n",
    "        page=requests.get(m)\n",
    "    except:\n",
    "        y='The genre is not known!'\n",
    "    soup=BeautifulSoup(page.content, 'html.parser')\n",
    "    cont=soup.findAll('div',class_=\"meta-value genre\")\n",
    "    gross=soup.findAll('div',class_=\"meta-value\")\n",
    "    rating=soup.findAll('span', class_=\"mop-ratings-wrap__percentage\")\n",
    "    \n",
    "    try:\n",
    "        y=cont[0].get_text().replace('\\n','').replace(' ','').strip()\n",
    "    except:\n",
    "        y='The genre is not known!'\n",
    "    genre.append(y)\n",
    "    \n",
    "    z='Not available!'\n",
    "    w='Not available!'\n",
    "    for k in gross:\n",
    "        b=k.text.find('$')\n",
    "        c=Movie_Length(k.get_text().strip())\n",
    "        if b!=-1:\n",
    "            z=k.get_text().replace(' ','').replace('$','').replace(',','').strip()\n",
    "        if c==True:\n",
    "            w=k.get_text().strip()\n",
    "            \n",
    "    box_office.append(z)\n",
    "    duration.append(w)\n",
    "    \n",
    "    try:\n",
    "        t_one=int(rating[0].get_text().strip().replace('%',''))\n",
    "    except:\n",
    "        t_one='Not available!'\n",
    "    try:\n",
    "        t_two=int(rating[1].get_text().strip().replace('%',''))\n",
    "    except:\n",
    "        t_two='Not available!'\n",
    "    \n",
    "    Critic_Rating.append(t_one)\n",
    "    Audience_Rating.append(t_two)"
   ]
  },
  {
   "cell_type": "markdown",
   "metadata": {},
   "source": [
    "## Transforming  the Collected Data into a Pandas Dataframe"
   ]
  },
  {
   "cell_type": "code",
   "execution_count": 8,
   "metadata": {},
   "outputs": [
    {
     "name": "stdout",
     "output_type": "stream",
     "text": [
      "8\n",
      "8\n"
     ]
    }
   ],
   "source": [
    "# Defining the names of the columns of the dataframe.\n",
    "\n",
    "Dict_one=['Movie Name','Movie Year','Movie url','Genre','Runtime','Box Office','Critic Ratings','Audience Ratings']\n",
    "Dict_two=[movie_names,movie_years,movie_urls,genre,duration,box_office,Critic_Rating,Audience_Rating]\n",
    "print(len(Dict_one))\n",
    "print(len(Dict_two))"
   ]
  },
  {
   "cell_type": "code",
   "execution_count": 9,
   "metadata": {},
   "outputs": [],
   "source": [
    "# Putting all the collected data into the dataframe 'df'.\n",
    "\n",
    "df=pd.DataFrame()\n",
    "for k in range(len(Dict_one)):\n",
    "    df[Dict_one[k]]=Dict_two[k]"
   ]
  },
  {
   "cell_type": "code",
   "execution_count": 10,
   "metadata": {},
   "outputs": [
    {
     "data": {
      "text/html": [
       "<div>\n",
       "<style scoped>\n",
       "    .dataframe tbody tr th:only-of-type {\n",
       "        vertical-align: middle;\n",
       "    }\n",
       "\n",
       "    .dataframe tbody tr th {\n",
       "        vertical-align: top;\n",
       "    }\n",
       "\n",
       "    .dataframe thead th {\n",
       "        text-align: right;\n",
       "    }\n",
       "</style>\n",
       "<table border=\"1\" class=\"dataframe\">\n",
       "  <thead>\n",
       "    <tr style=\"text-align: right;\">\n",
       "      <th></th>\n",
       "      <th>Movie Name</th>\n",
       "      <th>Movie Year</th>\n",
       "      <th>Movie url</th>\n",
       "      <th>Genre</th>\n",
       "      <th>Runtime</th>\n",
       "      <th>Box Office</th>\n",
       "      <th>Critic Ratings</th>\n",
       "      <th>Audience Ratings</th>\n",
       "    </tr>\n",
       "  </thead>\n",
       "  <tbody>\n",
       "    <tr>\n",
       "      <th>0</th>\n",
       "      <td>The Godfather</td>\n",
       "      <td>1972</td>\n",
       "      <td>http://www.rottentomatoes.com/m/12911</td>\n",
       "      <td>drama,crime</td>\n",
       "      <td>2h 57m</td>\n",
       "      <td>134.8M</td>\n",
       "      <td>98</td>\n",
       "      <td>98</td>\n",
       "    </tr>\n",
       "    <tr>\n",
       "      <th>1</th>\n",
       "      <td>12 Angry Men</td>\n",
       "      <td>1957</td>\n",
       "      <td>http://www.rottentomatoes.com/m/18108</td>\n",
       "      <td>drama</td>\n",
       "      <td>1h 35m</td>\n",
       "      <td>Not available!</td>\n",
       "      <td>100</td>\n",
       "      <td>97</td>\n",
       "    </tr>\n",
       "    <tr>\n",
       "      <th>2</th>\n",
       "      <td>The Godfather: Part II</td>\n",
       "      <td>1974</td>\n",
       "      <td>http://www.rottentomatoes.com/m/12926</td>\n",
       "      <td>drama,crime</td>\n",
       "      <td>3h 20m</td>\n",
       "      <td>Not available!</td>\n",
       "      <td>98</td>\n",
       "      <td>97</td>\n",
       "    </tr>\n",
       "    <tr>\n",
       "      <th>3</th>\n",
       "      <td>Seven Samurai</td>\n",
       "      <td>1954</td>\n",
       "      <td>http://www.rottentomatoes.com/m/16992</td>\n",
       "      <td>action</td>\n",
       "      <td>3h 28m</td>\n",
       "      <td>271.7K</td>\n",
       "      <td>100</td>\n",
       "      <td>97</td>\n",
       "    </tr>\n",
       "    <tr>\n",
       "      <th>4</th>\n",
       "      <td>Schindler's List</td>\n",
       "      <td>1993</td>\n",
       "      <td>http://www.rottentomatoes.com/m/12903</td>\n",
       "      <td>history,drama</td>\n",
       "      <td>3h 15m</td>\n",
       "      <td>96.6M</td>\n",
       "      <td>97</td>\n",
       "      <td>97</td>\n",
       "    </tr>\n",
       "  </tbody>\n",
       "</table>\n",
       "</div>"
      ],
      "text/plain": [
       "               Movie Name  Movie Year                              Movie url  \\\n",
       "0           The Godfather        1972  http://www.rottentomatoes.com/m/12911   \n",
       "1            12 Angry Men        1957  http://www.rottentomatoes.com/m/18108   \n",
       "2  The Godfather: Part II        1974  http://www.rottentomatoes.com/m/12926   \n",
       "3           Seven Samurai        1954  http://www.rottentomatoes.com/m/16992   \n",
       "4        Schindler's List        1993  http://www.rottentomatoes.com/m/12903   \n",
       "\n",
       "           Genre Runtime      Box Office Critic Ratings Audience Ratings  \n",
       "0    drama,crime  2h 57m          134.8M             98               98  \n",
       "1          drama  1h 35m  Not available!            100               97  \n",
       "2    drama,crime  3h 20m  Not available!             98               97  \n",
       "3         action  3h 28m          271.7K            100               97  \n",
       "4  history,drama  3h 15m           96.6M             97               97  "
      ]
     },
     "execution_count": 10,
     "metadata": {},
     "output_type": "execute_result"
    }
   ],
   "source": [
    "# Displaying the first few rows of the dataframe.\n",
    "\n",
    "df.head()"
   ]
  },
  {
   "cell_type": "code",
   "execution_count": 11,
   "metadata": {},
   "outputs": [],
   "source": [
    "# Saving the dataframe into a csv file for the next step of the process.\n",
    "\n",
    "df.to_csv('250-Best-Movies.csv')"
   ]
  },
  {
   "cell_type": "code",
   "execution_count": null,
   "metadata": {},
   "outputs": [],
   "source": []
  }
 ],
 "metadata": {
  "kernelspec": {
   "display_name": "Python 3",
   "language": "python",
   "name": "python3"
  },
  "language_info": {
   "codemirror_mode": {
    "name": "ipython",
    "version": 3
   },
   "file_extension": ".py",
   "mimetype": "text/x-python",
   "name": "python",
   "nbconvert_exporter": "python",
   "pygments_lexer": "ipython3",
   "version": "3.7.2"
  }
 },
 "nbformat": 4,
 "nbformat_minor": 2
}
