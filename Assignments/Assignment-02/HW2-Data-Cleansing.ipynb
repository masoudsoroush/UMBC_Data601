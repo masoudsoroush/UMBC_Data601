{
 "cells": [
  {
   "cell_type": "markdown",
   "metadata": {},
   "source": [
    "# Data Cleansing of the Data collected for the Best 250 Movies of All Times"
   ]
  },
  {
   "cell_type": "markdown",
   "metadata": {},
   "source": [
    "## Calling the Necessary Libraries"
   ]
  },
  {
   "cell_type": "code",
   "execution_count": 1,
   "metadata": {},
   "outputs": [],
   "source": [
    "import numpy as np\n",
    "import pandas as pd\n",
    "import seaborn as sns\n",
    "%matplotlib inline\n",
    "import matplotlib.pyplot as plt\n",
    "plt.style.use('seaborn-whitegrid')"
   ]
  },
  {
   "cell_type": "markdown",
   "metadata": {},
   "source": [
    "## Defining the Functions Used in the Data Cleansing"
   ]
  },
  {
   "cell_type": "code",
   "execution_count": 2,
   "metadata": {},
   "outputs": [],
   "source": [
    "# The following function replaces a string by an integer if the string is purely numerical, and by NaN otherwise. \n",
    "\n",
    "def Clean_NaN(x):\n",
    "    try:\n",
    "        x=int(float(x))\n",
    "    except:\n",
    "        x=np.nan\n",
    "    return x"
   ]
  },
  {
   "cell_type": "code",
   "execution_count": 3,
   "metadata": {},
   "outputs": [],
   "source": [
    "# This function removes 'K' and 'M' from a string, and automatically moves the '.' to the right by the \n",
    "# correct number of places.\n",
    "\n",
    "def RemoveDot (string):\n",
    "    if string[-1]=='K':\n",
    "        x=string.replace('K','')\n",
    "        t='000'\n",
    "    elif string[-1]=='M':\n",
    "        x=string.replace('M','')\n",
    "        t='000000'\n",
    "    else:\n",
    "        x='Not known!'\n",
    "        t=''\n",
    "    a=0; \n",
    "    b=x.find('.')\n",
    "    if b !=-1: \n",
    "        while x[-1]=='0': \n",
    "                x=x.replace(x[-1],'')\n",
    "        x=x+t\n",
    "        for k in range(len(x)-b):\n",
    "            if x[len(x)-k-1]=='0':\n",
    "                a += 1\n",
    "            else:\n",
    "                break\n",
    "        y=x.replace('.','')[:a+b] + '.' + x.replace('.','')[a+b:]\n",
    "    else:\n",
    "        y=x+t\n",
    "    return y"
   ]
  },
  {
   "cell_type": "code",
   "execution_count": 4,
   "metadata": {},
   "outputs": [],
   "source": [
    "# The following function takes the runtime in the format of x hours and y mintues, and replace it by total minutes.\n",
    "\n",
    "def Convert_Runtime(x):\n",
    "    if x=='Not available!':\n",
    "        u=np.nan\n",
    "    else:\n",
    "        b1=x.find('h')\n",
    "        try:\n",
    "            y=int(x[:b1].strip())\n",
    "        except:\n",
    "            y=0\n",
    "        b2=x.find('m')\n",
    "        if b2!=-1:\n",
    "            z=int(x[b1+1:b2].strip())\n",
    "        else:\n",
    "            z=0\n",
    "        u=y*60+z\n",
    "    return u"
   ]
  },
  {
   "cell_type": "code",
   "execution_count": 5,
   "metadata": {},
   "outputs": [],
   "source": [
    "# The following function, takes the 'Box Office' of a movie in US dollars, and gives the equivalent amount in the \n",
    "# year 2020. To do the conversion, we have extracted a table (CPI index) from the website \n",
    "# https://www.usinflationcalculator.com/ and saved it as a txt file. The file is read by the code, and the \n",
    "# following function uses the content to do the conversion. \n",
    "\n",
    "def Box_Office_Conv(x,year):\n",
    "    z=int(round(x*CPI[year-1920]))\n",
    "    return z"
   ]
  },
  {
   "cell_type": "code",
   "execution_count": 6,
   "metadata": {},
   "outputs": [],
   "source": [
    "# The 'Outlier_Elimination' function replaces the outliers of the list x by the bound. UpLow indicates whether \n",
    "# the given bound is an upper or a lower bound.\n",
    "\n",
    "def Outlier_Elimination(x,bound,UpLow):\n",
    "    if UpLow=='U':\n",
    "        if x>bound:\n",
    "            return bound\n",
    "        else:\n",
    "            return x\n",
    "    elif UpLow=='L':\n",
    "        if x<bound:\n",
    "            return bound\n",
    "        else:\n",
    "            return x\n",
    "    else: \n",
    "        print('It has not been specified properly whether the bound is a lower bound or an upper bound!')"
   ]
  },
  {
   "cell_type": "markdown",
   "metadata": {},
   "source": [
    "## Calling the Data from Web-scraping "
   ]
  },
  {
   "cell_type": "code",
   "execution_count": 7,
   "metadata": {},
   "outputs": [],
   "source": [
    "# 'path' indicates where to find the file we obtained from webscraping, and 'path2' is the path for the txt file \n",
    "# we constructed from the website https://www.usinflationcalculator.com/ for CPI index. \n",
    "\n",
    "path='/Users/masoud/Dropbox/Private/UMBC-DataScience/DATA-601/Homework-02/250-Best-Movies.csv'\n",
    "path2='/Users/masoud/Dropbox/Private/UMBC-DataScience/DATA-601/Homework-02/CPI-Conversion.txt'"
   ]
  },
  {
   "cell_type": "code",
   "execution_count": 8,
   "metadata": {},
   "outputs": [],
   "source": [
    "# Reading the file and storing data in 'CPIIndex'.\n",
    "\n",
    "with open(path2,'rt') as f:\n",
    "    CPIIndex=f.readlines()"
   ]
  },
  {
   "cell_type": "code",
   "execution_count": 9,
   "metadata": {},
   "outputs": [],
   "source": [
    "Year=[]\n",
    "CPI=[]\n",
    "for k in range(101):\n",
    "    Year.append(int(CPIIndex[k].split(',')[0].strip()))\n",
    "    CPI.append(float(CPIIndex[k].split(',')[1].strip())) "
   ]
  },
  {
   "cell_type": "code",
   "execution_count": 10,
   "metadata": {},
   "outputs": [],
   "source": [
    "# Reading the data (i.e. the result of webscraping that was stored as a csv file in 'path') in a dataframe.\n",
    "\n",
    "df=pd.read_csv(path)"
   ]
  },
  {
   "cell_type": "code",
   "execution_count": 11,
   "metadata": {},
   "outputs": [],
   "source": [
    "# For some reason when the dataframe is read, one new unewanted column is added. In here we just get rid of that\n",
    "# column.\n",
    "\n",
    "df.drop(columns=['Unnamed: 0'],inplace=True)"
   ]
  },
  {
   "cell_type": "markdown",
   "metadata": {},
   "source": [
    "### Representing the Dataframe"
   ]
  },
  {
   "cell_type": "markdown",
   "metadata": {},
   "source": [
    "The following dataframe has 250 rows (corresponding to the 250 Best Movies), and has 8 columns as follows:\n",
    "1. Movie Name: that represents the name of the movie.\n",
    "2. Movie Year: that represents the year movie was produced and screened.\n",
    "3. Movie url: that represents the electronic address of the movie in the 'rottentomatoes.com' website.\n",
    "4. Genre: that represents the genre of the movie.\n",
    "5. Runtime: that represents the length of the movie.\n",
    "6. Box Office: that represents the amount in US dollars the movie sold tickets in cinemas.\n",
    "7. Critic Ratings: that represents the average ratings by the critics of the 'rottentomatoes.com' website.\n",
    "8. Auidence Ratings: that represents the average ratings by all audience of the 'rottentomatoes.com' website."
   ]
  },
  {
   "cell_type": "code",
   "execution_count": 12,
   "metadata": {},
   "outputs": [
    {
     "data": {
      "text/plain": [
       "(250, 8)"
      ]
     },
     "execution_count": 12,
     "metadata": {},
     "output_type": "execute_result"
    }
   ],
   "source": [
    "df.shape"
   ]
  },
  {
   "cell_type": "code",
   "execution_count": 13,
   "metadata": {},
   "outputs": [
    {
     "data": {
      "text/html": [
       "<div>\n",
       "<style scoped>\n",
       "    .dataframe tbody tr th:only-of-type {\n",
       "        vertical-align: middle;\n",
       "    }\n",
       "\n",
       "    .dataframe tbody tr th {\n",
       "        vertical-align: top;\n",
       "    }\n",
       "\n",
       "    .dataframe thead th {\n",
       "        text-align: right;\n",
       "    }\n",
       "</style>\n",
       "<table border=\"1\" class=\"dataframe\">\n",
       "  <thead>\n",
       "    <tr style=\"text-align: right;\">\n",
       "      <th></th>\n",
       "      <th>Movie Name</th>\n",
       "      <th>Movie Year</th>\n",
       "      <th>Movie url</th>\n",
       "      <th>Genre</th>\n",
       "      <th>Runtime</th>\n",
       "      <th>Box Office</th>\n",
       "      <th>Critic Ratings</th>\n",
       "      <th>Audience Ratings</th>\n",
       "    </tr>\n",
       "  </thead>\n",
       "  <tbody>\n",
       "    <tr>\n",
       "      <th>0</th>\n",
       "      <td>The Godfather</td>\n",
       "      <td>1972</td>\n",
       "      <td>http://www.rottentomatoes.com/m/12911</td>\n",
       "      <td>drama,crime</td>\n",
       "      <td>2h 57m</td>\n",
       "      <td>134.8M</td>\n",
       "      <td>98</td>\n",
       "      <td>98</td>\n",
       "    </tr>\n",
       "    <tr>\n",
       "      <th>1</th>\n",
       "      <td>12 Angry Men</td>\n",
       "      <td>1957</td>\n",
       "      <td>http://www.rottentomatoes.com/m/18108</td>\n",
       "      <td>drama</td>\n",
       "      <td>1h 35m</td>\n",
       "      <td>Not available!</td>\n",
       "      <td>100</td>\n",
       "      <td>97</td>\n",
       "    </tr>\n",
       "    <tr>\n",
       "      <th>2</th>\n",
       "      <td>The Godfather: Part II</td>\n",
       "      <td>1974</td>\n",
       "      <td>http://www.rottentomatoes.com/m/12926</td>\n",
       "      <td>drama,crime</td>\n",
       "      <td>3h 20m</td>\n",
       "      <td>Not available!</td>\n",
       "      <td>98</td>\n",
       "      <td>97</td>\n",
       "    </tr>\n",
       "    <tr>\n",
       "      <th>3</th>\n",
       "      <td>Seven Samurai</td>\n",
       "      <td>1954</td>\n",
       "      <td>http://www.rottentomatoes.com/m/16992</td>\n",
       "      <td>action</td>\n",
       "      <td>3h 28m</td>\n",
       "      <td>271.7K</td>\n",
       "      <td>100</td>\n",
       "      <td>97</td>\n",
       "    </tr>\n",
       "    <tr>\n",
       "      <th>4</th>\n",
       "      <td>Schindler's List</td>\n",
       "      <td>1993</td>\n",
       "      <td>http://www.rottentomatoes.com/m/12903</td>\n",
       "      <td>history,drama</td>\n",
       "      <td>3h 15m</td>\n",
       "      <td>96.6M</td>\n",
       "      <td>97</td>\n",
       "      <td>97</td>\n",
       "    </tr>\n",
       "  </tbody>\n",
       "</table>\n",
       "</div>"
      ],
      "text/plain": [
       "               Movie Name  Movie Year                              Movie url  \\\n",
       "0           The Godfather        1972  http://www.rottentomatoes.com/m/12911   \n",
       "1            12 Angry Men        1957  http://www.rottentomatoes.com/m/18108   \n",
       "2  The Godfather: Part II        1974  http://www.rottentomatoes.com/m/12926   \n",
       "3           Seven Samurai        1954  http://www.rottentomatoes.com/m/16992   \n",
       "4        Schindler's List        1993  http://www.rottentomatoes.com/m/12903   \n",
       "\n",
       "           Genre Runtime      Box Office Critic Ratings Audience Ratings  \n",
       "0    drama,crime  2h 57m          134.8M             98               98  \n",
       "1          drama  1h 35m  Not available!            100               97  \n",
       "2    drama,crime  3h 20m  Not available!             98               97  \n",
       "3         action  3h 28m          271.7K            100               97  \n",
       "4  history,drama  3h 15m           96.6M             97               97  "
      ]
     },
     "execution_count": 13,
     "metadata": {},
     "output_type": "execute_result"
    }
   ],
   "source": [
    "df.head()"
   ]
  },
  {
   "cell_type": "markdown",
   "metadata": {},
   "source": [
    "## Cleansing the Dataframe"
   ]
  },
  {
   "cell_type": "code",
   "execution_count": 14,
   "metadata": {},
   "outputs": [],
   "source": [
    "# We define a new dataframe 'New_df'. In the new dataframe, we get rid of the spaces in the name of the columns.\n",
    "\n",
    "New_df=pd.DataFrame()\n",
    "New_df['Movie_Name']=df['Movie Name']\n",
    "New_df['Movie_url']=df['Movie url']\n",
    "New_df['Genre']=df['Genre']\n",
    "New_df['Movie_Year']=df['Movie Year'].apply(int)"
   ]
  },
  {
   "cell_type": "code",
   "execution_count": 15,
   "metadata": {},
   "outputs": [],
   "source": [
    "# All columns of the old dataframe 'df' have string values. For the Box Office, we convert the value to integers\n",
    "# through 'Clean_NaN' function first, and then we replace all the missing values by the mean of the values of \n",
    "# the column 'Box Office'.\n",
    "\n",
    "New_df['Box_Office_(USD)']=df['Box Office'].apply(RemoveDot).apply(Clean_NaN)\n",
    "New_df['Box_Office_(USD)'].fillna(value=int(round(New_df['Box_Office_(USD)'].mean())),inplace=True)\n",
    "New_df['Box_Office_(USD)']=New_df['Box_Office_(USD)'].astype(int)"
   ]
  },
  {
   "cell_type": "code",
   "execution_count": 16,
   "metadata": {},
   "outputs": [],
   "source": [
    "# In order to be able to compare the Box Office values, we need to convert all of values to their equivalent values\n",
    "# in one year, say 2020. To do this, we take the advantage of the 'function Box_Office_Conv'.\n",
    "\n",
    "New_df['Box_Office_(USD_2020)']=New_df.apply(\n",
    "    lambda x: Box_Office_Conv(x['Box_Office_(USD)'],x['Movie_Year']), axis=1)"
   ]
  },
  {
   "cell_type": "code",
   "execution_count": 17,
   "metadata": {},
   "outputs": [],
   "source": [
    "# We replace all the missing values in the column 'Crirtic_Ratings', and then substitute them by the mean of the \n",
    "# column. The values of the entries of the column are on integer type at the end of the day.\n",
    "\n",
    "New_df['Critic_Ratings']=df['Critic Ratings'].apply(Clean_NaN)\n",
    "New_df['Critic_Ratings'].fillna(value=round(New_df['Critic_Ratings'].mean()),inplace=True)"
   ]
  },
  {
   "cell_type": "code",
   "execution_count": 18,
   "metadata": {},
   "outputs": [],
   "source": [
    "# Similarly, we replace all the missing values in the column 'Audience_Ratings', and then substitute them by \n",
    "# the mean of the column. The values of the entries of the column are on integer type at the end of the day.\n",
    "\n",
    "New_df['Audience_Ratings']=df['Audience Ratings'].apply(Clean_NaN)\n",
    "New_df['Audience_Ratings'].fillna(value=round(New_df['Audience_Ratings'].mean()),inplace=True)"
   ]
  },
  {
   "cell_type": "code",
   "execution_count": 19,
   "metadata": {},
   "outputs": [],
   "source": [
    "# We convert the values of the column 'Runtime' to the minutes format. After the conversion, the values will have \n",
    "# integer type.\n",
    "\n",
    "New_df['Runtime_(min)']=df['Runtime'].apply(Convert_Runtime)\n",
    "New_df['Runtime_(min)'].fillna(value=round(New_df['Runtime_(min)'].mean()),inplace=True)"
   ]
  },
  {
   "cell_type": "markdown",
   "metadata": {},
   "source": [
    "### Representing the new dataframe New_df"
   ]
  },
  {
   "cell_type": "code",
   "execution_count": 20,
   "metadata": {},
   "outputs": [
    {
     "data": {
      "text/html": [
       "<div>\n",
       "<style scoped>\n",
       "    .dataframe tbody tr th:only-of-type {\n",
       "        vertical-align: middle;\n",
       "    }\n",
       "\n",
       "    .dataframe tbody tr th {\n",
       "        vertical-align: top;\n",
       "    }\n",
       "\n",
       "    .dataframe thead th {\n",
       "        text-align: right;\n",
       "    }\n",
       "</style>\n",
       "<table border=\"1\" class=\"dataframe\">\n",
       "  <thead>\n",
       "    <tr style=\"text-align: right;\">\n",
       "      <th></th>\n",
       "      <th>Movie_Name</th>\n",
       "      <th>Movie_url</th>\n",
       "      <th>Genre</th>\n",
       "      <th>Movie_Year</th>\n",
       "      <th>Box_Office_(USD)</th>\n",
       "      <th>Box_Office_(USD_2020)</th>\n",
       "      <th>Critic_Ratings</th>\n",
       "      <th>Audience_Ratings</th>\n",
       "      <th>Runtime_(min)</th>\n",
       "    </tr>\n",
       "  </thead>\n",
       "  <tbody>\n",
       "    <tr>\n",
       "      <th>0</th>\n",
       "      <td>The Godfather</td>\n",
       "      <td>http://www.rottentomatoes.com/m/12911</td>\n",
       "      <td>drama,crime</td>\n",
       "      <td>1972</td>\n",
       "      <td>134800000</td>\n",
       "      <td>838456000</td>\n",
       "      <td>98.0</td>\n",
       "      <td>98.0</td>\n",
       "      <td>177.0</td>\n",
       "    </tr>\n",
       "    <tr>\n",
       "      <th>1</th>\n",
       "      <td>12 Angry Men</td>\n",
       "      <td>http://www.rottentomatoes.com/m/18108</td>\n",
       "      <td>drama</td>\n",
       "      <td>1957</td>\n",
       "      <td>57020001</td>\n",
       "      <td>527435009</td>\n",
       "      <td>100.0</td>\n",
       "      <td>97.0</td>\n",
       "      <td>95.0</td>\n",
       "    </tr>\n",
       "    <tr>\n",
       "      <th>2</th>\n",
       "      <td>The Godfather: Part II</td>\n",
       "      <td>http://www.rottentomatoes.com/m/12926</td>\n",
       "      <td>drama,crime</td>\n",
       "      <td>1974</td>\n",
       "      <td>57020001</td>\n",
       "      <td>300495405</td>\n",
       "      <td>98.0</td>\n",
       "      <td>97.0</td>\n",
       "      <td>200.0</td>\n",
       "    </tr>\n",
       "    <tr>\n",
       "      <th>3</th>\n",
       "      <td>Seven Samurai</td>\n",
       "      <td>http://www.rottentomatoes.com/m/16992</td>\n",
       "      <td>action</td>\n",
       "      <td>1954</td>\n",
       "      <td>271700</td>\n",
       "      <td>2624622</td>\n",
       "      <td>100.0</td>\n",
       "      <td>97.0</td>\n",
       "      <td>208.0</td>\n",
       "    </tr>\n",
       "    <tr>\n",
       "      <th>4</th>\n",
       "      <td>Schindler's List</td>\n",
       "      <td>http://www.rottentomatoes.com/m/12903</td>\n",
       "      <td>history,drama</td>\n",
       "      <td>1993</td>\n",
       "      <td>96600000</td>\n",
       "      <td>173880000</td>\n",
       "      <td>97.0</td>\n",
       "      <td>97.0</td>\n",
       "      <td>195.0</td>\n",
       "    </tr>\n",
       "  </tbody>\n",
       "</table>\n",
       "</div>"
      ],
      "text/plain": [
       "               Movie_Name                              Movie_url  \\\n",
       "0           The Godfather  http://www.rottentomatoes.com/m/12911   \n",
       "1            12 Angry Men  http://www.rottentomatoes.com/m/18108   \n",
       "2  The Godfather: Part II  http://www.rottentomatoes.com/m/12926   \n",
       "3           Seven Samurai  http://www.rottentomatoes.com/m/16992   \n",
       "4        Schindler's List  http://www.rottentomatoes.com/m/12903   \n",
       "\n",
       "           Genre  Movie_Year  Box_Office_(USD)  Box_Office_(USD_2020)  \\\n",
       "0    drama,crime        1972         134800000              838456000   \n",
       "1          drama        1957          57020001              527435009   \n",
       "2    drama,crime        1974          57020001              300495405   \n",
       "3         action        1954            271700                2624622   \n",
       "4  history,drama        1993          96600000              173880000   \n",
       "\n",
       "   Critic_Ratings  Audience_Ratings  Runtime_(min)  \n",
       "0            98.0              98.0          177.0  \n",
       "1           100.0              97.0           95.0  \n",
       "2            98.0              97.0          200.0  \n",
       "3           100.0              97.0          208.0  \n",
       "4            97.0              97.0          195.0  "
      ]
     },
     "execution_count": 20,
     "metadata": {},
     "output_type": "execute_result"
    }
   ],
   "source": [
    "New_df.head()"
   ]
  },
  {
   "cell_type": "markdown",
   "metadata": {},
   "source": [
    "## Checking for Outliers"
   ]
  },
  {
   "cell_type": "markdown",
   "metadata": {},
   "source": [
    "### Outliers of Box Office"
   ]
  },
  {
   "cell_type": "code",
   "execution_count": 21,
   "metadata": {},
   "outputs": [
    {
     "data": {
      "image/png": "[encoded data removed]",
      "text/plain": [
       "<Figure size 432x288 with 1 Axes>"
      ]
     },
     "metadata": {
      "needs_background": "light"
     },
     "output_type": "display_data"
    }
   ],
   "source": [
    "# The following is the box plot of the column Box Office. There seems to exist an outlier above the upper limit. \n",
    "# The outlier belongs to the movie 'Gone With the Wind'. We checked its boxplot against the value presented at \n",
    "# rottentomatoes.com, and we found that the box office value for this movie is indeed correct. So we will keep this\n",
    "# in our analysis.\n",
    "\n",
    "BoxPlot_Box_Office = sns.boxplot(New_df['Box_Office_(USD_2020)'])"
   ]
  },
  {
   "cell_type": "code",
   "execution_count": 22,
   "metadata": {},
   "outputs": [
    {
     "data": {
      "text/html": [
       "<div>\n",
       "<style scoped>\n",
       "    .dataframe tbody tr th:only-of-type {\n",
       "        vertical-align: middle;\n",
       "    }\n",
       "\n",
       "    .dataframe tbody tr th {\n",
       "        vertical-align: top;\n",
       "    }\n",
       "\n",
       "    .dataframe thead th {\n",
       "        text-align: right;\n",
       "    }\n",
       "</style>\n",
       "<table border=\"1\" class=\"dataframe\">\n",
       "  <thead>\n",
       "    <tr style=\"text-align: right;\">\n",
       "      <th></th>\n",
       "      <th>Movie_Name</th>\n",
       "      <th>Movie_url</th>\n",
       "      <th>Genre</th>\n",
       "      <th>Movie_Year</th>\n",
       "      <th>Box_Office_(USD)</th>\n",
       "      <th>Box_Office_(USD_2020)</th>\n",
       "      <th>Critic_Ratings</th>\n",
       "      <th>Audience_Ratings</th>\n",
       "      <th>Runtime_(min)</th>\n",
       "    </tr>\n",
       "  </thead>\n",
       "  <tbody>\n",
       "    <tr>\n",
       "      <th>127</th>\n",
       "      <td>Gone With the Wind</td>\n",
       "      <td>http://www.rottentomatoes.com/m/9818</td>\n",
       "      <td>romance,history,drama</td>\n",
       "      <td>1939</td>\n",
       "      <td>198700000</td>\n",
       "      <td>3715690000</td>\n",
       "      <td>91.0</td>\n",
       "      <td>92.0</td>\n",
       "      <td>222.0</td>\n",
       "    </tr>\n",
       "  </tbody>\n",
       "</table>\n",
       "</div>"
      ],
      "text/plain": [
       "             Movie_Name                             Movie_url  \\\n",
       "127  Gone With the Wind  http://www.rottentomatoes.com/m/9818   \n",
       "\n",
       "                     Genre  Movie_Year  Box_Office_(USD)  \\\n",
       "127  romance,history,drama        1939         198700000   \n",
       "\n",
       "     Box_Office_(USD_2020)  Critic_Ratings  Audience_Ratings  Runtime_(min)  \n",
       "127             3715690000            91.0              92.0          222.0  "
      ]
     },
     "execution_count": 22,
     "metadata": {},
     "output_type": "execute_result"
    }
   ],
   "source": [
    "New_df.loc[New_df['Box_Office_(USD_2020)']>3500000000]"
   ]
  },
  {
   "cell_type": "markdown",
   "metadata": {},
   "source": [
    "### Outliers of Runtime"
   ]
  },
  {
   "cell_type": "code",
   "execution_count": 23,
   "metadata": {},
   "outputs": [
    {
     "data": {
      "image/png": "[encoded data removed]",
      "text/plain": [
       "<Figure size 432x288 with 1 Axes>"
      ]
     },
     "metadata": {
      "needs_background": "light"
     },
     "output_type": "display_data"
    }
   ],
   "source": [
    "# Plotting the box plot of the Runtime column, we particularly see that there are two very lengthy movies. As we \n",
    "# in below, these two movies are 'The Best of Youth' and 'Satantango'. We checked the exact runtime of the two \n",
    "# movies, and we realized that we have the correct length of the movies in our dataframe. Therefore, we'll keep \n",
    "# them as they are.\n",
    "\n",
    "BoxPlot_Runtime = sns.boxplot(New_df['Runtime_(min)'])"
   ]
  },
  {
   "cell_type": "code",
   "execution_count": 24,
   "metadata": {},
   "outputs": [
    {
     "data": {
      "text/html": [
       "<div>\n",
       "<style scoped>\n",
       "    .dataframe tbody tr th:only-of-type {\n",
       "        vertical-align: middle;\n",
       "    }\n",
       "\n",
       "    .dataframe tbody tr th {\n",
       "        vertical-align: top;\n",
       "    }\n",
       "\n",
       "    .dataframe thead th {\n",
       "        text-align: right;\n",
       "    }\n",
       "</style>\n",
       "<table border=\"1\" class=\"dataframe\">\n",
       "  <thead>\n",
       "    <tr style=\"text-align: right;\">\n",
       "      <th></th>\n",
       "      <th>Movie_Name</th>\n",
       "      <th>Movie_url</th>\n",
       "      <th>Genre</th>\n",
       "      <th>Movie_Year</th>\n",
       "      <th>Box_Office_(USD)</th>\n",
       "      <th>Box_Office_(USD_2020)</th>\n",
       "      <th>Critic_Ratings</th>\n",
       "      <th>Audience_Ratings</th>\n",
       "      <th>Runtime_(min)</th>\n",
       "    </tr>\n",
       "  </thead>\n",
       "  <tbody>\n",
       "    <tr>\n",
       "      <th>32</th>\n",
       "      <td>The Best of Youth</td>\n",
       "      <td>http://www.rottentomatoes.com/m/277029659</td>\n",
       "      <td>drama</td>\n",
       "      <td>2003</td>\n",
       "      <td>250400</td>\n",
       "      <td>353064</td>\n",
       "      <td>94.0</td>\n",
       "      <td>98.0</td>\n",
       "      <td>358.0</td>\n",
       "    </tr>\n",
       "    <tr>\n",
       "      <th>89</th>\n",
       "      <td>Satantango</td>\n",
       "      <td>http://www.rottentomatoes.com/m/359854872</td>\n",
       "      <td>drama,comedy</td>\n",
       "      <td>1994</td>\n",
       "      <td>57020001</td>\n",
       "      <td>99785002</td>\n",
       "      <td>100.0</td>\n",
       "      <td>93.0</td>\n",
       "      <td>450.0</td>\n",
       "    </tr>\n",
       "  </tbody>\n",
       "</table>\n",
       "</div>"
      ],
      "text/plain": [
       "           Movie_Name                                  Movie_url  \\\n",
       "32  The Best of Youth  http://www.rottentomatoes.com/m/277029659   \n",
       "89         Satantango  http://www.rottentomatoes.com/m/359854872   \n",
       "\n",
       "           Genre  Movie_Year  Box_Office_(USD)  Box_Office_(USD_2020)  \\\n",
       "32         drama        2003            250400                 353064   \n",
       "89  drama,comedy        1994          57020001               99785002   \n",
       "\n",
       "    Critic_Ratings  Audience_Ratings  Runtime_(min)  \n",
       "32            94.0              98.0          358.0  \n",
       "89           100.0              93.0          450.0  "
      ]
     },
     "execution_count": 24,
     "metadata": {},
     "output_type": "execute_result"
    }
   ],
   "source": [
    "New_df.loc[New_df['Runtime_(min)']>300]"
   ]
  },
  {
   "cell_type": "markdown",
   "metadata": {},
   "source": [
    "### Outliers of Critic Ratings"
   ]
  },
  {
   "cell_type": "code",
   "execution_count": 25,
   "metadata": {},
   "outputs": [
    {
     "data": {
      "image/png": "[encoded data removed]",
      "text/plain": [
       "<Figure size 432x288 with 1 Axes>"
      ]
     },
     "metadata": {
      "needs_background": "light"
     },
     "output_type": "display_data"
    }
   ],
   "source": [
    "# It is observed that we have a couple of low outliers for the critic ratings. We do not have an independent way\n",
    "# of checking the ratings. Therefore, we will replace the lower outliers by the lower fence of the box plot.\n",
    "\n",
    "BoxPlot_CRatings = sns.boxplot(New_df['Critic_Ratings'])"
   ]
  },
  {
   "cell_type": "code",
   "execution_count": 26,
   "metadata": {},
   "outputs": [
    {
     "data": {
      "text/html": [
       "<div>\n",
       "<style scoped>\n",
       "    .dataframe tbody tr th:only-of-type {\n",
       "        vertical-align: middle;\n",
       "    }\n",
       "\n",
       "    .dataframe tbody tr th {\n",
       "        vertical-align: top;\n",
       "    }\n",
       "\n",
       "    .dataframe thead th {\n",
       "        text-align: right;\n",
       "    }\n",
       "</style>\n",
       "<table border=\"1\" class=\"dataframe\">\n",
       "  <thead>\n",
       "    <tr style=\"text-align: right;\">\n",
       "      <th></th>\n",
       "      <th>Movie_Name</th>\n",
       "      <th>Movie_url</th>\n",
       "      <th>Genre</th>\n",
       "      <th>Movie_Year</th>\n",
       "      <th>Box_Office_(USD)</th>\n",
       "      <th>Box_Office_(USD_2020)</th>\n",
       "      <th>Critic_Ratings</th>\n",
       "      <th>Audience_Ratings</th>\n",
       "      <th>Runtime_(min)</th>\n",
       "    </tr>\n",
       "  </thead>\n",
       "  <tbody>\n",
       "    <tr>\n",
       "      <th>142</th>\n",
       "      <td>Fight Club</td>\n",
       "      <td>http://www.rottentomatoes.com/m/13153</td>\n",
       "      <td>mysteryandthriller,drama</td>\n",
       "      <td>1999</td>\n",
       "      <td>37000000</td>\n",
       "      <td>57720000</td>\n",
       "      <td>79.0</td>\n",
       "      <td>96.0</td>\n",
       "      <td>139.0</td>\n",
       "    </tr>\n",
       "    <tr>\n",
       "      <th>175</th>\n",
       "      <td>Forrest Gump</td>\n",
       "      <td>http://www.rottentomatoes.com/m/10036</td>\n",
       "      <td>drama,comedy</td>\n",
       "      <td>1994</td>\n",
       "      <td>330300000</td>\n",
       "      <td>578025000</td>\n",
       "      <td>71.0</td>\n",
       "      <td>95.0</td>\n",
       "      <td>142.0</td>\n",
       "    </tr>\n",
       "  </tbody>\n",
       "</table>\n",
       "</div>"
      ],
      "text/plain": [
       "       Movie_Name                              Movie_url  \\\n",
       "142    Fight Club  http://www.rottentomatoes.com/m/13153   \n",
       "175  Forrest Gump  http://www.rottentomatoes.com/m/10036   \n",
       "\n",
       "                        Genre  Movie_Year  Box_Office_(USD)  \\\n",
       "142  mysteryandthriller,drama        1999          37000000   \n",
       "175              drama,comedy        1994         330300000   \n",
       "\n",
       "     Box_Office_(USD_2020)  Critic_Ratings  Audience_Ratings  Runtime_(min)  \n",
       "142               57720000            79.0              96.0          139.0  \n",
       "175              578025000            71.0              95.0          142.0  "
      ]
     },
     "execution_count": 26,
     "metadata": {},
     "output_type": "execute_result"
    }
   ],
   "source": [
    "New_df.loc[New_df['Critic_Ratings']<80]"
   ]
  },
  {
   "cell_type": "code",
   "execution_count": 27,
   "metadata": {},
   "outputs": [],
   "source": [
    "# We will substitute the lower outliers by the 'Outlier_Elimination' function we defined in HW-1.\n",
    "\n",
    "LowerBound=84\n",
    "New_df.Critic_Ratings = New_df.Critic_Ratings.apply(Outlier_Elimination,args=(LowerBound,'L',))"
   ]
  },
  {
   "cell_type": "code",
   "execution_count": 28,
   "metadata": {},
   "outputs": [
    {
     "data": {
      "image/png": "[encoded data removed]",
      "text/plain": [
       "<Figure size 432x288 with 1 Axes>"
      ]
     },
     "metadata": {
      "needs_background": "light"
     },
     "output_type": "display_data"
    }
   ],
   "source": [
    "# The new box plot for Critic Ratings shows no outliers, as expected.\n",
    "\n",
    "BoxPlot_CRatings = sns.boxplot(New_df.Critic_Ratings)"
   ]
  },
  {
   "cell_type": "markdown",
   "metadata": {},
   "source": [
    "### Outliers of Audience Ratings"
   ]
  },
  {
   "cell_type": "code",
   "execution_count": 29,
   "metadata": {},
   "outputs": [
    {
     "data": {
      "image/png": "[encoded data removed]",
      "text/plain": [
       "<Figure size 432x288 with 1 Axes>"
      ]
     },
     "metadata": {
      "needs_background": "light"
     },
     "output_type": "display_data"
    }
   ],
   "source": [
    "# It is observed that we have a couple of low outliers for the audience ratings. We do not have an independent way\n",
    "# of checking the ratings. Therefore, we will replace the lower outliers by the lower fence of the box plot.\n",
    "\n",
    "BoxPlot_ARatings = sns.boxplot(New_df['Audience_Ratings'])"
   ]
  },
  {
   "cell_type": "code",
   "execution_count": 30,
   "metadata": {},
   "outputs": [
    {
     "data": {
      "text/html": [
       "<div>\n",
       "<style scoped>\n",
       "    .dataframe tbody tr th:only-of-type {\n",
       "        vertical-align: middle;\n",
       "    }\n",
       "\n",
       "    .dataframe tbody tr th {\n",
       "        vertical-align: top;\n",
       "    }\n",
       "\n",
       "    .dataframe thead th {\n",
       "        text-align: right;\n",
       "    }\n",
       "</style>\n",
       "<table border=\"1\" class=\"dataframe\">\n",
       "  <thead>\n",
       "    <tr style=\"text-align: right;\">\n",
       "      <th></th>\n",
       "      <th>Movie_Name</th>\n",
       "      <th>Movie_url</th>\n",
       "      <th>Genre</th>\n",
       "      <th>Movie_Year</th>\n",
       "      <th>Box_Office_(USD)</th>\n",
       "      <th>Box_Office_(USD_2020)</th>\n",
       "      <th>Critic_Ratings</th>\n",
       "      <th>Audience_Ratings</th>\n",
       "      <th>Runtime_(min)</th>\n",
       "    </tr>\n",
       "  </thead>\n",
       "  <tbody>\n",
       "    <tr>\n",
       "      <th>138</th>\n",
       "      <td>The Matrix</td>\n",
       "      <td>http://www.rottentomatoes.com/m/12897</td>\n",
       "      <td>action,scifi</td>\n",
       "      <td>1999</td>\n",
       "      <td>171400000</td>\n",
       "      <td>267384000</td>\n",
       "      <td>88.0</td>\n",
       "      <td>85.0</td>\n",
       "      <td>136.0</td>\n",
       "    </tr>\n",
       "  </tbody>\n",
       "</table>\n",
       "</div>"
      ],
      "text/plain": [
       "     Movie_Name                              Movie_url         Genre  \\\n",
       "138  The Matrix  http://www.rottentomatoes.com/m/12897  action,scifi   \n",
       "\n",
       "     Movie_Year  Box_Office_(USD)  Box_Office_(USD_2020)  Critic_Ratings  \\\n",
       "138        1999         171400000              267384000            88.0   \n",
       "\n",
       "     Audience_Ratings  Runtime_(min)  \n",
       "138              85.0          136.0  "
      ]
     },
     "execution_count": 30,
     "metadata": {},
     "output_type": "execute_result"
    }
   ],
   "source": [
    "New_df.loc[New_df['Audience_Ratings']<86]"
   ]
  },
  {
   "cell_type": "code",
   "execution_count": 31,
   "metadata": {},
   "outputs": [],
   "source": [
    "# We will substitute the lower outliers by the 'Outlier_Elimination' function we defined in HW-1.\n",
    "\n",
    "LowerBound=88\n",
    "New_df.Audience_Ratings = New_df.Audience_Ratings.apply(Outlier_Elimination,args=(LowerBound,'L',))"
   ]
  },
  {
   "cell_type": "code",
   "execution_count": 32,
   "metadata": {},
   "outputs": [
    {
     "data": {
      "image/png": "[encoded data removed]",
      "text/plain": [
       "<Figure size 432x288 with 1 Axes>"
      ]
     },
     "metadata": {
      "needs_background": "light"
     },
     "output_type": "display_data"
    }
   ],
   "source": [
    "# The new box plot for Audience Ratings shows no outliers, as expected.\n",
    "\n",
    "BoxPlot_ARatings = sns.boxplot(New_df['Audience_Ratings'])"
   ]
  },
  {
   "cell_type": "markdown",
   "metadata": {},
   "source": [
    "## Saving the Cleansed Dataframe in a csv File"
   ]
  },
  {
   "cell_type": "code",
   "execution_count": 33,
   "metadata": {},
   "outputs": [],
   "source": [
    "# We save the cleansed dataframe to a newly defined dataframe 'New_df' as a csv file for the next step of the \n",
    "# process (i.e. Data Analysis)\n",
    "\n",
    "New_df.to_csv('Cleansed_Data.csv')"
   ]
  },
  {
   "cell_type": "code",
   "execution_count": null,
   "metadata": {},
   "outputs": [],
   "source": []
  }
 ],
 "metadata": {
  "kernelspec": {
   "display_name": "Python 3",
   "language": "python",
   "name": "python3"
  },
  "language_info": {
   "codemirror_mode": {
    "name": "ipython",
    "version": 3
   },
   "file_extension": ".py",
   "mimetype": "text/x-python",
   "name": "python",
   "nbconvert_exporter": "python",
   "pygments_lexer": "ipython3",
   "version": "3.7.2"
  }
 },
 "nbformat": 4,
 "nbformat_minor": 2
}
