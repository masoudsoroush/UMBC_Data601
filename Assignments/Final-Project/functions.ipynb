{
 "cells": [
  {
   "cell_type": "markdown",
   "metadata": {},
   "source": [
    "# Functions"
   ]
  },
  {
   "cell_type": "code",
   "execution_count": 15,
   "metadata": {},
   "outputs": [],
   "source": [
    "import numpy as np\n",
    "import pandas as pd\n",
    "import matplotlib.pyplot as plt"
   ]
  },
  {
   "cell_type": "code",
   "execution_count": 16,
   "metadata": {},
   "outputs": [],
   "source": [
    "# N_largest finds the items (i.e. rows) in a dafaframe corresponding to the n largest values of feature 'feature'\n",
    "\n",
    "def N_largest (df,n,feature):\n",
    "    return df.nlargest(n,feature)[list(df.columns[:4])+[feature]]"
   ]
  },
  {
   "cell_type": "code",
   "execution_count": 17,
   "metadata": {},
   "outputs": [],
   "source": [
    "# N_smallest finds the items (i.e. rows) in a dafaframe corresponding to the n smallest values of feature 'feature'\n",
    "\n",
    "def N_smallest (df,n,feature):\n",
    "    return df.nsmallest(n,feature)[list(df.columns[:4])+[feature]]"
   ]
  },
  {
   "cell_type": "code",
   "execution_count": 18,
   "metadata": {},
   "outputs": [],
   "source": [
    "# number_of_greater_a finds the number of items in a dataframe with feature 'feature'>a\n",
    "\n",
    "def number_of_greater_a (df,feature,a):\n",
    "    return len(df[df[feature]>a])"
   ]
  },
  {
   "cell_type": "code",
   "execution_count": 19,
   "metadata": {},
   "outputs": [],
   "source": [
    "# number_of_greater_a finds the number of items in a dataframe with feature 'feature'<a\n",
    "\n",
    "def number_of_smaller_a (df,feature,a):\n",
    "    return len(df[df[feature]<a])"
   ]
  },
  {
   "cell_type": "code",
   "execution_count": 20,
   "metadata": {},
   "outputs": [],
   "source": [
    "# n food items in the category 'FoodGroup' with lowest level of 'feature'\n",
    "\n",
    "def N_nonzero_smallest(df,n,feature,food_group):\n",
    "    aux_df = pd.DataFrame()\n",
    "    aux_df = df[(df[feature] != 0) & (df['FoodGroup'] == food_group)]\n",
    "    return N_smallest(aux_df,n,feature)"
   ]
  },
  {
   "cell_type": "code",
   "execution_count": 21,
   "metadata": {},
   "outputs": [],
   "source": [
    "# remove_unit removes the units of all features (used in the dataframes in the project)\n",
    "\n",
    "def remove_unit (str_list):\n",
    "    aux_list=[]\n",
    "    for element in str_list:\n",
    "        aux_list.append(element.split('_')[0])\n",
    "    return aux_list"
   ]
  },
  {
   "cell_type": "code",
   "execution_count": 22,
   "metadata": {},
   "outputs": [],
   "source": [
    "# The 'Lin_Reg' function finds the least square regression line for the two lists 'Lone' and 'Ltwo'. Parameter 'c'\n",
    "# specifies the color of the regression line.\n",
    "\n",
    "def Lin_Reg(Lone,Ltwo,c):\n",
    "    a=np.polyfit(Lone,Ltwo,1)\n",
    "    y=lambda x: a[0]*x+a[1]\n",
    "    b=np.linspace(min(Lone),max(Lone),200)\n",
    "    return plt.plot(b,y(b),color=c)"
   ]
  },
  {
   "cell_type": "code",
   "execution_count": null,
   "metadata": {},
   "outputs": [],
   "source": []
  }
 ],
 "metadata": {
  "kernelspec": {
   "display_name": "Python 3",
   "language": "python",
   "name": "python3"
  },
  "language_info": {
   "codemirror_mode": {
    "name": "ipython",
    "version": 3
   },
   "file_extension": ".py",
   "mimetype": "text/x-python",
   "name": "python",
   "nbconvert_exporter": "python",
   "pygments_lexer": "ipython3",
   "version": "3.7.2"
  }
 },
 "nbformat": 4,
 "nbformat_minor": 2
}
