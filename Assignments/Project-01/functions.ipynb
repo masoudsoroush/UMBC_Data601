{
 "cells": [
  {
   "cell_type": "markdown",
   "metadata": {},
   "source": [
    "# Functions Used in Project-1"
   ]
  },
  {
   "cell_type": "code",
   "execution_count": 1,
   "metadata": {},
   "outputs": [],
   "source": [
    "def dropzero(x):\n",
    "    while x[0]=='0':\n",
    "        x=x.replace(x[0],'',1)\n",
    "    return x"
   ]
  },
  {
   "cell_type": "code",
   "execution_count": 2,
   "metadata": {},
   "outputs": [],
   "source": [
    "def Date_Conversion(x):\n",
    "    month_length=[31,28,31,30,31,30,31,31,30,31,30,31]\n",
    "    year=int(dropzero(x.split('-')[0]))\n",
    "    month=int(dropzero(x.split('-')[1]))\n",
    "    day=int(dropzero(x.split('-')[2]))\n",
    "    if month>1:\n",
    "        y=sum(month_length[:month-1])+day\n",
    "    elif month==1:\n",
    "        y=day\n",
    "    else:\n",
    "        y='Date is not appropriately specified!'\n",
    "# Taking into account the leap years:    \n",
    "#    if year%4==0 and month>2:\n",
    "#        y+=1\n",
    "    return y"
   ]
  },
  {
   "cell_type": "code",
   "execution_count": 3,
   "metadata": {},
   "outputs": [],
   "source": [
    "# The 'Outlier_Elimination' function replaces the outliers of the list x by the bound. UpLow indicates whether \n",
    "# the given bound is an upper or a lower bound.\n",
    "\n",
    "def Outlier_Elimination(x,bound,UpLow):\n",
    "    if UpLow=='U':\n",
    "        if x>bound:\n",
    "            return bound\n",
    "        else:\n",
    "            return x\n",
    "    elif UpLow=='L':\n",
    "        if x<bound:\n",
    "            return bound\n",
    "        else:\n",
    "            return x\n",
    "    else: \n",
    "        print('It has not been specified properly whether the bound is a lower bound or an upper bound!')"
   ]
  },
  {
   "cell_type": "code",
   "execution_count": 1,
   "metadata": {},
   "outputs": [],
   "source": [
    "# The 'precipitation type' specifies the rain class according to https://climate.ncsu.edu/edu/PrecipTypes.\n",
    "\n",
    "def precipitation_type(x):\n",
    "    y=0\n",
    "    if x==0:\n",
    "        y=0                        # No rain \n",
    "    elif x>=0.01 and x<0.1:\n",
    "        y=1                        # Light rain\n",
    "    elif x>=0.1 and x<=0.3:\n",
    "        y=2                        # Moderate rain\n",
    "    elif x>0.3:\n",
    "        y=3                        # Heavy rain\n",
    "    else:\n",
    "        y='Precipitation rate has not been specified properly!'\n",
    "    return y"
   ]
  },
  {
   "cell_type": "code",
   "execution_count": null,
   "metadata": {},
   "outputs": [],
   "source": []
  }
 ],
 "metadata": {
  "kernelspec": {
   "display_name": "Python 3",
   "language": "python",
   "name": "python3"
  },
  "language_info": {
   "codemirror_mode": {
    "name": "ipython",
    "version": 3
   },
   "file_extension": ".py",
   "mimetype": "text/x-python",
   "name": "python",
   "nbconvert_exporter": "python",
   "pygments_lexer": "ipython3",
   "version": "3.7.2"
  }
 },
 "nbformat": 4,
 "nbformat_minor": 2
}
